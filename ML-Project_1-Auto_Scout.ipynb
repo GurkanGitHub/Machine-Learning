{
 "cells": [
  {
   "cell_type": "markdown",
   "metadata": {
    "id": "4UCsvzbImqZN"
   },
   "source": [
    "___\n",
    "\n",
    "<p style=\"text-align: center;\"><img src=\"https://docs.google.com/uc?id=1lY0Uj5R04yMY3-ZppPWxqCr5pvBLYPnV\" class=\"img-fluid\" alt=\"CLRSWY\"></p>\n",
    "\n",
    "___"
   ]
  },
  {
   "cell_type": "markdown",
   "metadata": {
    "id": "i5WapR8JmqZN"
   },
   "source": [
    "# WELCOME!"
   ]
  },
  {
   "cell_type": "markdown",
   "metadata": {
    "id": "ZyeGWbuTmqZN"
   },
   "source": [
    "Welcome to \"***Car Price Prediction Project***\". This is the first medium project of ***Machine Learning*** course. In this project you will have the opportunity to apply many algorithms commonly used for regression problems.\n",
    "\n",
    "Also, you will apply various processes such as pre-processing, ***train-test spilit*** and ***cross validation*** that you will use in algorithm modeling and prediction processes in Python with ***scikit-learn***. \n",
    "\n",
    "Before diving into the project, please take a look at the determines and tasks.\n",
    "\n",
    "- **NOTE:** This project assumes that you already know the basics of coding in Python. You should also be familiar with the theory behind regression algorithms and scikit-learn module as well as Machine Learning before you begin.\n"
   ]
  },
  {
   "cell_type": "markdown",
   "metadata": {
    "id": "c0Iul5QymqZN"
   },
   "source": [
    "# #Determines\n",
    "\n",
    "The domain you must have remembered it because you are worked on under project **\"EDA for Car Price Prediction Model\"**. **Auto Scout** data which using for this project, scraped from the on-line car trading company in 2019, contains many features of 9 different car models. In this project, you will use the data sets prepared for algorithms as a result of the EDA project.\n",
    "\n",
    "So this study assumes that you are working on the EDA project and that you have sufficient domain knowledge.\n",
    "\n",
    "Therefore, you will not need any EDA process as you will be working on the edited data.\n",
    "\n",
    "---\n",
    "\n",
    "In this case, you will estimate the prices of cars using regression algorithms.\n",
    "\n",
    "While starting you should import the necessary modules and load the data given as pkl file. Also you'll need to do a few pre-processing before moving to modelling. After that you will implement ***Linear Regression, Ridge Regression, Lasso Regression, Random Forest*** and ***XG Boost*** algorithms respectively. You can measure the success of your models with regression evaluation metrics as well as with cross validation method.\n",
    "\n",
    "For the better results, you should try to increase the success of your models by performing hyperparameter tuning. Determine feature importances for the model. You can set your model with the most important features for resource saving. You should try to apply this especially in Random Forest and XG Boost algorithms. Unlike the others, you will perform hyperparameter tuning for Random Forest and XG Boost using the ***GridSearchCV*** method. \n",
    "\n",
    "Finally You can compare the performances of algorithms, work more on the algorithm have the most successful prediction rate.\n",
    "\n",
    "\n",
    "\n",
    "\n"
   ]
  },
  {
   "cell_type": "markdown",
   "metadata": {
    "id": "pL-jJ1irmqZN"
   },
   "source": [
    "# #Tasks\n",
    "\n",
    "#### 1. Import Modules, Load Data and Data Review\n",
    "#### 2. Data Pre-Processing\n",
    "#### 3. Implement Linear Regression \n",
    "#### 4. Implement Ridge Regression\n",
    "#### 5. Implement Lasso Regression "
   ]
  },
  {
   "cell_type": "markdown",
   "metadata": {
    "id": "Rik6d_vimqZN"
   },
   "source": [
    "## 1. Import Modules, Load Data and Data Review"
   ]
  },
  {
   "cell_type": "code",
   "execution_count": 1,
   "metadata": {
    "id": "QBddHlqgmqZN"
   },
   "outputs": [],
   "source": [
    "import numpy as np\n",
    "import pandas as pd\n",
    "import matplotlib.pyplot as plt\n",
    "import seaborn as sns\n",
    "%matplotlib inline"
   ]
  },
  {
   "cell_type": "code",
   "execution_count": 11,
   "metadata": {},
   "outputs": [],
   "source": [
    "df=pd.read_pickle(\"golden_data_dummy.pkl\")"
   ]
  },
  {
   "cell_type": "code",
   "execution_count": 12,
   "metadata": {},
   "outputs": [
    {
     "data": {
      "text/html": [
       "<div>\n",
       "<style scoped>\n",
       "    .dataframe tbody tr th:only-of-type {\n",
       "        vertical-align: middle;\n",
       "    }\n",
       "\n",
       "    .dataframe tbody tr th {\n",
       "        vertical-align: top;\n",
       "    }\n",
       "\n",
       "    .dataframe thead th {\n",
       "        text-align: right;\n",
       "    }\n",
       "</style>\n",
       "<table border=\"1\" class=\"dataframe\">\n",
       "  <thead>\n",
       "    <tr style=\"text-align: right;\">\n",
       "      <th></th>\n",
       "      <th>displacement</th>\n",
       "      <th>hp</th>\n",
       "      <th>km</th>\n",
       "      <th>ss_abs</th>\n",
       "      <th>ss_adaptive_cruise_control</th>\n",
       "      <th>ss_adaptive_headlights</th>\n",
       "      <th>ss_alarm_system</th>\n",
       "      <th>ss_blind_spot_monitor</th>\n",
       "      <th>ss_central_door_lock</th>\n",
       "      <th>ss_central_door_lock_with_remote_control</th>\n",
       "      <th>...</th>\n",
       "      <th>gearing_type_Semi-automatic</th>\n",
       "      <th>fuel_diesel</th>\n",
       "      <th>fuel_electric</th>\n",
       "      <th>fuel_gasoline</th>\n",
       "      <th>fuel_lpg</th>\n",
       "      <th>type_Demonstration</th>\n",
       "      <th>type_Employee's car</th>\n",
       "      <th>type_New</th>\n",
       "      <th>type_Pre-registered</th>\n",
       "      <th>type_Used</th>\n",
       "    </tr>\n",
       "  </thead>\n",
       "  <tbody>\n",
       "    <tr>\n",
       "      <th>0</th>\n",
       "      <td>1422.0</td>\n",
       "      <td>66.0</td>\n",
       "      <td>56013</td>\n",
       "      <td>1.0</td>\n",
       "      <td>0.0</td>\n",
       "      <td>0.0</td>\n",
       "      <td>0.0</td>\n",
       "      <td>0.0</td>\n",
       "      <td>1.0</td>\n",
       "      <td>0.0</td>\n",
       "      <td>...</td>\n",
       "      <td>0</td>\n",
       "      <td>1</td>\n",
       "      <td>0</td>\n",
       "      <td>0</td>\n",
       "      <td>0</td>\n",
       "      <td>0</td>\n",
       "      <td>0</td>\n",
       "      <td>0</td>\n",
       "      <td>0</td>\n",
       "      <td>1</td>\n",
       "    </tr>\n",
       "    <tr>\n",
       "      <th>1</th>\n",
       "      <td>1798.0</td>\n",
       "      <td>141.0</td>\n",
       "      <td>80000</td>\n",
       "      <td>1.0</td>\n",
       "      <td>0.0</td>\n",
       "      <td>0.0</td>\n",
       "      <td>0.0</td>\n",
       "      <td>0.0</td>\n",
       "      <td>1.0</td>\n",
       "      <td>1.0</td>\n",
       "      <td>...</td>\n",
       "      <td>0</td>\n",
       "      <td>0</td>\n",
       "      <td>0</td>\n",
       "      <td>1</td>\n",
       "      <td>0</td>\n",
       "      <td>0</td>\n",
       "      <td>0</td>\n",
       "      <td>0</td>\n",
       "      <td>0</td>\n",
       "      <td>1</td>\n",
       "    </tr>\n",
       "    <tr>\n",
       "      <th>2</th>\n",
       "      <td>1598.0</td>\n",
       "      <td>85.0</td>\n",
       "      <td>83450</td>\n",
       "      <td>1.0</td>\n",
       "      <td>0.0</td>\n",
       "      <td>0.0</td>\n",
       "      <td>0.0</td>\n",
       "      <td>0.0</td>\n",
       "      <td>1.0</td>\n",
       "      <td>0.0</td>\n",
       "      <td>...</td>\n",
       "      <td>0</td>\n",
       "      <td>1</td>\n",
       "      <td>0</td>\n",
       "      <td>0</td>\n",
       "      <td>0</td>\n",
       "      <td>0</td>\n",
       "      <td>0</td>\n",
       "      <td>0</td>\n",
       "      <td>0</td>\n",
       "      <td>1</td>\n",
       "    </tr>\n",
       "    <tr>\n",
       "      <th>3</th>\n",
       "      <td>1422.0</td>\n",
       "      <td>66.0</td>\n",
       "      <td>73000</td>\n",
       "      <td>1.0</td>\n",
       "      <td>0.0</td>\n",
       "      <td>0.0</td>\n",
       "      <td>1.0</td>\n",
       "      <td>0.0</td>\n",
       "      <td>0.0</td>\n",
       "      <td>1.0</td>\n",
       "      <td>...</td>\n",
       "      <td>0</td>\n",
       "      <td>1</td>\n",
       "      <td>0</td>\n",
       "      <td>0</td>\n",
       "      <td>0</td>\n",
       "      <td>0</td>\n",
       "      <td>0</td>\n",
       "      <td>0</td>\n",
       "      <td>0</td>\n",
       "      <td>1</td>\n",
       "    </tr>\n",
       "    <tr>\n",
       "      <th>4</th>\n",
       "      <td>1422.0</td>\n",
       "      <td>66.0</td>\n",
       "      <td>16200</td>\n",
       "      <td>1.0</td>\n",
       "      <td>0.0</td>\n",
       "      <td>0.0</td>\n",
       "      <td>0.0</td>\n",
       "      <td>0.0</td>\n",
       "      <td>1.0</td>\n",
       "      <td>0.0</td>\n",
       "      <td>...</td>\n",
       "      <td>0</td>\n",
       "      <td>1</td>\n",
       "      <td>0</td>\n",
       "      <td>0</td>\n",
       "      <td>0</td>\n",
       "      <td>0</td>\n",
       "      <td>0</td>\n",
       "      <td>0</td>\n",
       "      <td>0</td>\n",
       "      <td>1</td>\n",
       "    </tr>\n",
       "  </tbody>\n",
       "</table>\n",
       "<p>5 rows × 136 columns</p>\n",
       "</div>"
      ],
      "text/plain": [
       "   displacement     hp     km  ss_abs  ss_adaptive_cruise_control  \\\n",
       "0        1422.0   66.0  56013     1.0                         0.0   \n",
       "1        1798.0  141.0  80000     1.0                         0.0   \n",
       "2        1598.0   85.0  83450     1.0                         0.0   \n",
       "3        1422.0   66.0  73000     1.0                         0.0   \n",
       "4        1422.0   66.0  16200     1.0                         0.0   \n",
       "\n",
       "   ss_adaptive_headlights  ss_alarm_system  ss_blind_spot_monitor  \\\n",
       "0                     0.0              0.0                    0.0   \n",
       "1                     0.0              0.0                    0.0   \n",
       "2                     0.0              0.0                    0.0   \n",
       "3                     0.0              1.0                    0.0   \n",
       "4                     0.0              0.0                    0.0   \n",
       "\n",
       "   ss_central_door_lock  ss_central_door_lock_with_remote_control  ...  \\\n",
       "0                   1.0                                       0.0  ...   \n",
       "1                   1.0                                       1.0  ...   \n",
       "2                   1.0                                       0.0  ...   \n",
       "3                   0.0                                       1.0  ...   \n",
       "4                   1.0                                       0.0  ...   \n",
       "\n",
       "   gearing_type_Semi-automatic  fuel_diesel  fuel_electric  fuel_gasoline  \\\n",
       "0                            0            1              0              0   \n",
       "1                            0            0              0              1   \n",
       "2                            0            1              0              0   \n",
       "3                            0            1              0              0   \n",
       "4                            0            1              0              0   \n",
       "\n",
       "   fuel_lpg  type_Demonstration  type_Employee's car  type_New  \\\n",
       "0         0                   0                    0         0   \n",
       "1         0                   0                    0         0   \n",
       "2         0                   0                    0         0   \n",
       "3         0                   0                    0         0   \n",
       "4         0                   0                    0         0   \n",
       "\n",
       "   type_Pre-registered  type_Used  \n",
       "0                    0          1  \n",
       "1                    0          1  \n",
       "2                    0          1  \n",
       "3                    0          1  \n",
       "4                    0          1  \n",
       "\n",
       "[5 rows x 136 columns]"
      ]
     },
     "execution_count": 12,
     "metadata": {},
     "output_type": "execute_result"
    }
   ],
   "source": [
    "df.head()"
   ]
  },
  {
   "cell_type": "code",
   "execution_count": 13,
   "metadata": {},
   "outputs": [
    {
     "name": "stdout",
     "output_type": "stream",
     "text": [
      "<class 'pandas.core.frame.DataFrame'>\n",
      "Int64Index: 14990 entries, 0 to 15918\n",
      "Columns: 136 entries, displacement to type_Used\n",
      "dtypes: float64(86), int64(5), uint8(45)\n",
      "memory usage: 11.2 MB\n"
     ]
    }
   ],
   "source": [
    "df.info()"
   ]
  },
  {
   "cell_type": "code",
   "execution_count": 21,
   "metadata": {},
   "outputs": [
    {
     "data": {
      "text/plain": [
       "Index(['displacement', 'hp', 'km', 'ss_abs', 'ss_adaptive_cruise_control',\n",
       "       'ss_adaptive_headlights', 'ss_alarm_system', 'ss_blind_spot_monitor',\n",
       "       'ss_central_door_lock', 'ss_central_door_lock_with_remote_control',\n",
       "       ...\n",
       "       'gearing_type_Semi-automatic', 'fuel_diesel', 'fuel_electric',\n",
       "       'fuel_gasoline', 'fuel_lpg', 'type_Demonstration',\n",
       "       'type_Employee's car', 'type_New', 'type_Pre-registered', 'type_Used'],\n",
       "      dtype='object', length=136)"
      ]
     },
     "execution_count": 21,
     "metadata": {},
     "output_type": "execute_result"
    }
   ],
   "source": [
    "df.columns"
   ]
  },
  {
   "cell_type": "code",
   "execution_count": 16,
   "metadata": {},
   "outputs": [
    {
     "data": {
      "text/html": [
       "<div>\n",
       "<style scoped>\n",
       "    .dataframe tbody tr th:only-of-type {\n",
       "        vertical-align: middle;\n",
       "    }\n",
       "\n",
       "    .dataframe tbody tr th {\n",
       "        vertical-align: top;\n",
       "    }\n",
       "\n",
       "    .dataframe thead th {\n",
       "        text-align: right;\n",
       "    }\n",
       "</style>\n",
       "<table border=\"1\" class=\"dataframe\">\n",
       "  <thead>\n",
       "    <tr style=\"text-align: right;\">\n",
       "      <th></th>\n",
       "      <th>displacement</th>\n",
       "      <th>hp</th>\n",
       "      <th>km</th>\n",
       "      <th>ss_abs</th>\n",
       "      <th>ss_adaptive_cruise_control</th>\n",
       "      <th>ss_adaptive_headlights</th>\n",
       "      <th>ss_alarm_system</th>\n",
       "      <th>ss_blind_spot_monitor</th>\n",
       "      <th>ss_central_door_lock</th>\n",
       "      <th>ss_central_door_lock_with_remote_control</th>\n",
       "      <th>...</th>\n",
       "      <th>gearing_type_Semi-automatic</th>\n",
       "      <th>fuel_diesel</th>\n",
       "      <th>fuel_electric</th>\n",
       "      <th>fuel_gasoline</th>\n",
       "      <th>fuel_lpg</th>\n",
       "      <th>type_Demonstration</th>\n",
       "      <th>type_Employee's car</th>\n",
       "      <th>type_New</th>\n",
       "      <th>type_Pre-registered</th>\n",
       "      <th>type_Used</th>\n",
       "    </tr>\n",
       "  </thead>\n",
       "  <tbody>\n",
       "    <tr>\n",
       "      <th>count</th>\n",
       "      <td>14990.000000</td>\n",
       "      <td>14990.000000</td>\n",
       "      <td>14990.000000</td>\n",
       "      <td>14990.000000</td>\n",
       "      <td>14990.000000</td>\n",
       "      <td>14990.000000</td>\n",
       "      <td>14990.000000</td>\n",
       "      <td>14990.000000</td>\n",
       "      <td>14990.000000</td>\n",
       "      <td>14990.000000</td>\n",
       "      <td>...</td>\n",
       "      <td>14990.000000</td>\n",
       "      <td>14990.000000</td>\n",
       "      <td>14990.000000</td>\n",
       "      <td>14990.000000</td>\n",
       "      <td>14990.000000</td>\n",
       "      <td>14990.000000</td>\n",
       "      <td>14990.000000</td>\n",
       "      <td>14990.000000</td>\n",
       "      <td>14990.000000</td>\n",
       "      <td>14990.000000</td>\n",
       "    </tr>\n",
       "    <tr>\n",
       "      <th>mean</th>\n",
       "      <td>1432.258843</td>\n",
       "      <td>88.231744</td>\n",
       "      <td>33894.105203</td>\n",
       "      <td>0.949767</td>\n",
       "      <td>0.080187</td>\n",
       "      <td>0.133422</td>\n",
       "      <td>0.126484</td>\n",
       "      <td>0.082188</td>\n",
       "      <td>0.859239</td>\n",
       "      <td>0.155704</td>\n",
       "      <td>...</td>\n",
       "      <td>0.030754</td>\n",
       "      <td>0.471781</td>\n",
       "      <td>0.000133</td>\n",
       "      <td>0.524149</td>\n",
       "      <td>0.003936</td>\n",
       "      <td>0.051634</td>\n",
       "      <td>0.067178</td>\n",
       "      <td>0.054236</td>\n",
       "      <td>0.090127</td>\n",
       "      <td>0.736825</td>\n",
       "    </tr>\n",
       "    <tr>\n",
       "      <th>std</th>\n",
       "      <td>271.764876</td>\n",
       "      <td>26.617304</td>\n",
       "      <td>37284.577857</td>\n",
       "      <td>0.218434</td>\n",
       "      <td>0.271591</td>\n",
       "      <td>0.340042</td>\n",
       "      <td>0.332405</td>\n",
       "      <td>0.274660</td>\n",
       "      <td>0.347786</td>\n",
       "      <td>0.362586</td>\n",
       "      <td>...</td>\n",
       "      <td>0.172656</td>\n",
       "      <td>0.499220</td>\n",
       "      <td>0.011550</td>\n",
       "      <td>0.499433</td>\n",
       "      <td>0.062616</td>\n",
       "      <td>0.221295</td>\n",
       "      <td>0.250339</td>\n",
       "      <td>0.226491</td>\n",
       "      <td>0.286373</td>\n",
       "      <td>0.440372</td>\n",
       "    </tr>\n",
       "    <tr>\n",
       "      <th>min</th>\n",
       "      <td>890.000000</td>\n",
       "      <td>40.000000</td>\n",
       "      <td>0.000000</td>\n",
       "      <td>0.000000</td>\n",
       "      <td>0.000000</td>\n",
       "      <td>0.000000</td>\n",
       "      <td>0.000000</td>\n",
       "      <td>0.000000</td>\n",
       "      <td>0.000000</td>\n",
       "      <td>0.000000</td>\n",
       "      <td>...</td>\n",
       "      <td>0.000000</td>\n",
       "      <td>0.000000</td>\n",
       "      <td>0.000000</td>\n",
       "      <td>0.000000</td>\n",
       "      <td>0.000000</td>\n",
       "      <td>0.000000</td>\n",
       "      <td>0.000000</td>\n",
       "      <td>0.000000</td>\n",
       "      <td>0.000000</td>\n",
       "      <td>0.000000</td>\n",
       "    </tr>\n",
       "    <tr>\n",
       "      <th>25%</th>\n",
       "      <td>1229.000000</td>\n",
       "      <td>66.000000</td>\n",
       "      <td>5000.000000</td>\n",
       "      <td>1.000000</td>\n",
       "      <td>0.000000</td>\n",
       "      <td>0.000000</td>\n",
       "      <td>0.000000</td>\n",
       "      <td>0.000000</td>\n",
       "      <td>1.000000</td>\n",
       "      <td>0.000000</td>\n",
       "      <td>...</td>\n",
       "      <td>0.000000</td>\n",
       "      <td>0.000000</td>\n",
       "      <td>0.000000</td>\n",
       "      <td>0.000000</td>\n",
       "      <td>0.000000</td>\n",
       "      <td>0.000000</td>\n",
       "      <td>0.000000</td>\n",
       "      <td>0.000000</td>\n",
       "      <td>0.000000</td>\n",
       "      <td>0.000000</td>\n",
       "    </tr>\n",
       "    <tr>\n",
       "      <th>50%</th>\n",
       "      <td>1461.000000</td>\n",
       "      <td>85.000000</td>\n",
       "      <td>22487.000000</td>\n",
       "      <td>1.000000</td>\n",
       "      <td>0.000000</td>\n",
       "      <td>0.000000</td>\n",
       "      <td>0.000000</td>\n",
       "      <td>0.000000</td>\n",
       "      <td>1.000000</td>\n",
       "      <td>0.000000</td>\n",
       "      <td>...</td>\n",
       "      <td>0.000000</td>\n",
       "      <td>0.000000</td>\n",
       "      <td>0.000000</td>\n",
       "      <td>1.000000</td>\n",
       "      <td>0.000000</td>\n",
       "      <td>0.000000</td>\n",
       "      <td>0.000000</td>\n",
       "      <td>0.000000</td>\n",
       "      <td>0.000000</td>\n",
       "      <td>1.000000</td>\n",
       "    </tr>\n",
       "    <tr>\n",
       "      <th>75%</th>\n",
       "      <td>1598.000000</td>\n",
       "      <td>100.000000</td>\n",
       "      <td>49264.500000</td>\n",
       "      <td>1.000000</td>\n",
       "      <td>0.000000</td>\n",
       "      <td>0.000000</td>\n",
       "      <td>0.000000</td>\n",
       "      <td>0.000000</td>\n",
       "      <td>1.000000</td>\n",
       "      <td>0.000000</td>\n",
       "      <td>...</td>\n",
       "      <td>0.000000</td>\n",
       "      <td>1.000000</td>\n",
       "      <td>0.000000</td>\n",
       "      <td>1.000000</td>\n",
       "      <td>0.000000</td>\n",
       "      <td>0.000000</td>\n",
       "      <td>0.000000</td>\n",
       "      <td>0.000000</td>\n",
       "      <td>0.000000</td>\n",
       "      <td>1.000000</td>\n",
       "    </tr>\n",
       "    <tr>\n",
       "      <th>max</th>\n",
       "      <td>2967.000000</td>\n",
       "      <td>294.000000</td>\n",
       "      <td>317000.000000</td>\n",
       "      <td>1.000000</td>\n",
       "      <td>1.000000</td>\n",
       "      <td>1.000000</td>\n",
       "      <td>1.000000</td>\n",
       "      <td>1.000000</td>\n",
       "      <td>1.000000</td>\n",
       "      <td>1.000000</td>\n",
       "      <td>...</td>\n",
       "      <td>1.000000</td>\n",
       "      <td>1.000000</td>\n",
       "      <td>1.000000</td>\n",
       "      <td>1.000000</td>\n",
       "      <td>1.000000</td>\n",
       "      <td>1.000000</td>\n",
       "      <td>1.000000</td>\n",
       "      <td>1.000000</td>\n",
       "      <td>1.000000</td>\n",
       "      <td>1.000000</td>\n",
       "    </tr>\n",
       "  </tbody>\n",
       "</table>\n",
       "<p>8 rows × 136 columns</p>\n",
       "</div>"
      ],
      "text/plain": [
       "       displacement            hp             km        ss_abs  \\\n",
       "count  14990.000000  14990.000000   14990.000000  14990.000000   \n",
       "mean    1432.258843     88.231744   33894.105203      0.949767   \n",
       "std      271.764876     26.617304   37284.577857      0.218434   \n",
       "min      890.000000     40.000000       0.000000      0.000000   \n",
       "25%     1229.000000     66.000000    5000.000000      1.000000   \n",
       "50%     1461.000000     85.000000   22487.000000      1.000000   \n",
       "75%     1598.000000    100.000000   49264.500000      1.000000   \n",
       "max     2967.000000    294.000000  317000.000000      1.000000   \n",
       "\n",
       "       ss_adaptive_cruise_control  ss_adaptive_headlights  ss_alarm_system  \\\n",
       "count                14990.000000            14990.000000     14990.000000   \n",
       "mean                     0.080187                0.133422         0.126484   \n",
       "std                      0.271591                0.340042         0.332405   \n",
       "min                      0.000000                0.000000         0.000000   \n",
       "25%                      0.000000                0.000000         0.000000   \n",
       "50%                      0.000000                0.000000         0.000000   \n",
       "75%                      0.000000                0.000000         0.000000   \n",
       "max                      1.000000                1.000000         1.000000   \n",
       "\n",
       "       ss_blind_spot_monitor  ss_central_door_lock  \\\n",
       "count           14990.000000          14990.000000   \n",
       "mean                0.082188              0.859239   \n",
       "std                 0.274660              0.347786   \n",
       "min                 0.000000              0.000000   \n",
       "25%                 0.000000              1.000000   \n",
       "50%                 0.000000              1.000000   \n",
       "75%                 0.000000              1.000000   \n",
       "max                 1.000000              1.000000   \n",
       "\n",
       "       ss_central_door_lock_with_remote_control  ...  \\\n",
       "count                              14990.000000  ...   \n",
       "mean                                   0.155704  ...   \n",
       "std                                    0.362586  ...   \n",
       "min                                    0.000000  ...   \n",
       "25%                                    0.000000  ...   \n",
       "50%                                    0.000000  ...   \n",
       "75%                                    0.000000  ...   \n",
       "max                                    1.000000  ...   \n",
       "\n",
       "       gearing_type_Semi-automatic   fuel_diesel  fuel_electric  \\\n",
       "count                 14990.000000  14990.000000   14990.000000   \n",
       "mean                      0.030754      0.471781       0.000133   \n",
       "std                       0.172656      0.499220       0.011550   \n",
       "min                       0.000000      0.000000       0.000000   \n",
       "25%                       0.000000      0.000000       0.000000   \n",
       "50%                       0.000000      0.000000       0.000000   \n",
       "75%                       0.000000      1.000000       0.000000   \n",
       "max                       1.000000      1.000000       1.000000   \n",
       "\n",
       "       fuel_gasoline      fuel_lpg  type_Demonstration  type_Employee's car  \\\n",
       "count   14990.000000  14990.000000        14990.000000         14990.000000   \n",
       "mean        0.524149      0.003936            0.051634             0.067178   \n",
       "std         0.499433      0.062616            0.221295             0.250339   \n",
       "min         0.000000      0.000000            0.000000             0.000000   \n",
       "25%         0.000000      0.000000            0.000000             0.000000   \n",
       "50%         1.000000      0.000000            0.000000             0.000000   \n",
       "75%         1.000000      0.000000            0.000000             0.000000   \n",
       "max         1.000000      1.000000            1.000000             1.000000   \n",
       "\n",
       "           type_New  type_Pre-registered     type_Used  \n",
       "count  14990.000000         14990.000000  14990.000000  \n",
       "mean       0.054236             0.090127      0.736825  \n",
       "std        0.226491             0.286373      0.440372  \n",
       "min        0.000000             0.000000      0.000000  \n",
       "25%        0.000000             0.000000      0.000000  \n",
       "50%        0.000000             0.000000      1.000000  \n",
       "75%        0.000000             0.000000      1.000000  \n",
       "max        1.000000             1.000000      1.000000  \n",
       "\n",
       "[8 rows x 136 columns]"
      ]
     },
     "execution_count": 16,
     "metadata": {},
     "output_type": "execute_result"
    }
   ],
   "source": [
    "df.describe()"
   ]
  },
  {
   "cell_type": "code",
   "execution_count": 22,
   "metadata": {},
   "outputs": [
    {
     "data": {
      "text/plain": [
       "0        15770\n",
       "1        14500\n",
       "2        14640\n",
       "3        14500\n",
       "4        16790\n",
       "         ...  \n",
       "15913    39950\n",
       "15915    39885\n",
       "15916    39875\n",
       "15917    39700\n",
       "15918    40999\n",
       "Name: price, Length: 14990, dtype: int64"
      ]
     },
     "execution_count": 22,
     "metadata": {},
     "output_type": "execute_result"
    }
   ],
   "source": [
    "df[\"price\"]"
   ]
  },
  {
   "cell_type": "markdown",
   "metadata": {
    "id": "QsEUUAAKmqZN"
   },
   "source": [
    "## 2. Data Pre-Processing"
   ]
  },
  {
   "cell_type": "markdown",
   "metadata": {
    "id": "QtVkM6f2mqZN"
   },
   "source": [
    "As you know, the data set must be edited before proceeding to the implementation of the model. As the last step before model fitting, you need to spilit the data set as train and test. Then, you should train the model with train data and evaluate the performance of the model on the test data. You can use the train and test data you have created for all algorithms.\n",
    "\n",
    "You must also drop your target variable, the column you are trying to predict."
   ]
  },
  {
   "cell_type": "markdown",
   "metadata": {
    "id": "K7d_92iemqZN"
   },
   "source": [
    "You can use many [performance metrics for regression](https://medium.com/analytics-vidhya/evaluation-metrics-for-regression-problems-343c4923d922) to measure the performance of the regression model you train. You can define a function to view different metric results together.\n",
    "\n",
    "You can also use the [cross validation](https://towardsdatascience.com/cross-validation-explained-evaluating-estimator-performance-e51e5430ff85) method to measure the estimator performance. Cross validation uses different data samples from your test set and calculates the accuracy score for each data sample. You can calculate the final performance of your estimator by averaging these scores."
   ]
  },
  {
   "cell_type": "code",
   "execution_count": 23,
   "metadata": {
    "id": "-3gMQ3utmqZN"
   },
   "outputs": [],
   "source": [
    "X=df.drop(\"price\", axis = 1)"
   ]
  },
  {
   "cell_type": "code",
   "execution_count": 25,
   "metadata": {},
   "outputs": [],
   "source": [
    "y=df[\"price\"]"
   ]
  },
  {
   "cell_type": "code",
   "execution_count": 33,
   "metadata": {},
   "outputs": [
    {
     "data": {
      "text/plain": [
       "age                            -0.458475\n",
       "gearing_type_Manual            -0.443354\n",
       "km                             -0.387911\n",
       "model_Corsa                    -0.379704\n",
       "type_Used                      -0.333761\n",
       "                                  ...   \n",
       "cc_automatic_climate_control    0.415296\n",
       "model_Espace                    0.437672\n",
       "ss_led_headlights               0.442480\n",
       "hp                              0.696620\n",
       "price                           1.000000\n",
       "Name: price, Length: 136, dtype: float64"
      ]
     },
     "execution_count": 33,
     "metadata": {},
     "output_type": "execute_result"
    }
   ],
   "source": [
    "df.corr()['price'].sort_values()"
   ]
  },
  {
   "cell_type": "markdown",
   "metadata": {
    "id": "An_5ITcAmqZO"
   },
   "source": [
    "## 3. Implement Linear Regression"
   ]
  },
  {
   "cell_type": "markdown",
   "metadata": {
    "id": "0c0y-w8vmqZO"
   },
   "source": [
    " - Import the modul\n",
    " - Fit the model \n",
    " - Predict the test set\n",
    " - Determine feature coefficiant\n",
    " - Evaluate model performance (use performance metrics for regression and cross_val_score)\n",
    " - Compare different evaluation metrics\n",
    " \n",
    "*Note: You can use the [dir()](https://www.geeksforgeeks.org/python-dir-function/) function to see the methods you need.*"
   ]
  },
  {
   "cell_type": "code",
   "execution_count": 28,
   "metadata": {
    "id": "lq6UKn_HmqZO"
   },
   "outputs": [],
   "source": [
    "from sklearn.model_selection import train_test_split"
   ]
  },
  {
   "cell_type": "code",
   "execution_count": 35,
   "metadata": {},
   "outputs": [],
   "source": [
    "X_train, X_test, y_train, y_test = train_test_split(X, y, test_size=0.3)"
   ]
  },
  {
   "cell_type": "code",
   "execution_count": 36,
   "metadata": {},
   "outputs": [],
   "source": [
    "from sklearn.linear_model import LinearRegression"
   ]
  },
  {
   "cell_type": "code",
   "execution_count": 37,
   "metadata": {},
   "outputs": [],
   "source": [
    "lm = LinearRegression()"
   ]
  },
  {
   "cell_type": "code",
   "execution_count": 38,
   "metadata": {},
   "outputs": [
    {
     "data": {
      "text/plain": [
       "LinearRegression(copy_X=True, fit_intercept=True, n_jobs=None, normalize=False)"
      ]
     },
     "execution_count": 38,
     "metadata": {},
     "output_type": "execute_result"
    }
   ],
   "source": [
    "lm.fit(X_train, y_train)"
   ]
  },
  {
   "cell_type": "code",
   "execution_count": 40,
   "metadata": {},
   "outputs": [
    {
     "data": {
      "text/plain": [
       "array([-7.42757628e-01,  9.13307861e+01, -3.74021499e-02, -4.80139961e+01,\n",
       "        2.06283750e+01,  2.13086518e+02,  1.16247301e+02, -4.07562760e+02,\n",
       "       -2.86221719e+02,  4.30174410e+01, -1.88509080e+02, -6.53663640e+01,\n",
       "       -2.62853458e+02, -4.16145748e+02,  2.53339836e+01, -7.62494719e+02,\n",
       "       -1.84543352e+02, -3.59075273e+01, -2.05484506e+02, -2.66657575e+02,\n",
       "       -1.58442191e+02,  5.88124197e+02,  7.94804036e+02,  6.84088475e+02,\n",
       "        5.80268654e+02, -5.57738794e+02, -5.24397241e+02,  6.82080764e+01,\n",
       "        1.17193180e+02,  2.13989324e+02, -8.83149317e+00, -3.64609607e+02,\n",
       "        1.10130011e+02, -1.42060016e+02, -1.60947220e+03, -5.13473662e+02,\n",
       "        1.00697686e+02,  8.51328191e+02, -1.19696455e+02, -1.62947070e+02,\n",
       "       -5.02219842e+00,  3.52278469e+02, -1.82583093e+02, -1.33257928e+03,\n",
       "       -2.04438592e+02,  3.51889010e+02,  5.25437150e+01, -4.92139390e+01,\n",
       "        4.41807653e+02, -3.18029657e+02, -9.67805683e+00,  2.61002807e+02,\n",
       "       -9.48890744e+01,  1.26869476e+02, -1.76356707e-11,  3.08392801e+02,\n",
       "        9.41555734e+01,  3.29220663e+02,  5.50782326e+02,  1.97639043e+03,\n",
       "        3.15917100e+02,  2.36588266e+02,  2.14225688e+02, -7.39213955e+02,\n",
       "        1.01369745e+02,  2.12409755e+02, -1.86790229e+02,  4.11537308e+02,\n",
       "        8.92312863e+01,  4.81215191e+02, -4.70921498e+02,  4.88468775e+02,\n",
       "        2.50040561e+01,  1.23331916e+03,  2.88815889e+02, -3.58943542e+02,\n",
       "        4.93827426e+01, -1.76334209e+02,  5.85190632e+01,  9.31332929e+02,\n",
       "       -2.65273606e+02, -6.73530739e+01,  1.05884735e+03,  4.06414583e+01,\n",
       "       -2.40904485e+02, -6.19083677e+02,  5.68969480e+02, -5.79321826e+02,\n",
       "        1.08397842e+02, -2.46322911e+02,  2.82977173e+03, -2.33024824e+03,\n",
       "       -4.99523485e+02, -2.06475146e+03,  5.66927397e+03, -7.74750786e+02,\n",
       "       -9.65218955e+02, -4.33595505e+03, -2.58283616e+03,  3.83643157e+03,\n",
       "        1.21780687e+03, -1.56250341e+02,  1.91903049e+03, -2.64987947e+02,\n",
       "       -6.12702671e+01, -7.21362946e+02, -2.22919123e+02, -1.36968459e+02,\n",
       "       -1.17578657e+03,  8.20515158e+02, -9.17953349e+01,  5.97688743e+02,\n",
       "        4.03245777e+02, -3.46545679e+02, -1.16058464e+02,  3.09246653e+02,\n",
       "        6.03839703e+02, -2.58188025e+03,  1.11381990e+02,  2.72152137e+02,\n",
       "       -1.22353539e+03,  6.35786362e+02,  1.42647375e+03, -1.41299771e+02,\n",
       "       -1.87423303e+03,  2.01553280e+03,  7.40857328e+02, -1.44740197e+03,\n",
       "        1.31755159e+01,  6.93369129e+02,  1.73858558e+03, -1.08344455e+03,\n",
       "        8.44291537e+02, -4.96377210e+02, -1.00305536e+03])"
      ]
     },
     "execution_count": 40,
     "metadata": {},
     "output_type": "execute_result"
    }
   ],
   "source": [
    "lm.coef_"
   ]
  },
  {
   "cell_type": "code",
   "execution_count": 41,
   "metadata": {},
   "outputs": [],
   "source": [
    "coef=pd.DataFrame(lm.coef_, X.columns, columns=[\"Coefficient\"])"
   ]
  },
  {
   "cell_type": "code",
   "execution_count": 42,
   "metadata": {},
   "outputs": [
    {
     "data": {
      "text/html": [
       "<div>\n",
       "<style scoped>\n",
       "    .dataframe tbody tr th:only-of-type {\n",
       "        vertical-align: middle;\n",
       "    }\n",
       "\n",
       "    .dataframe tbody tr th {\n",
       "        vertical-align: top;\n",
       "    }\n",
       "\n",
       "    .dataframe thead th {\n",
       "        text-align: right;\n",
       "    }\n",
       "</style>\n",
       "<table border=\"1\" class=\"dataframe\">\n",
       "  <thead>\n",
       "    <tr style=\"text-align: right;\">\n",
       "      <th></th>\n",
       "      <th>Coefficient</th>\n",
       "    </tr>\n",
       "  </thead>\n",
       "  <tbody>\n",
       "    <tr>\n",
       "      <th>displacement</th>\n",
       "      <td>-0.742758</td>\n",
       "    </tr>\n",
       "    <tr>\n",
       "      <th>hp</th>\n",
       "      <td>91.330786</td>\n",
       "    </tr>\n",
       "    <tr>\n",
       "      <th>km</th>\n",
       "      <td>-0.037402</td>\n",
       "    </tr>\n",
       "    <tr>\n",
       "      <th>ss_abs</th>\n",
       "      <td>-48.013996</td>\n",
       "    </tr>\n",
       "    <tr>\n",
       "      <th>ss_adaptive_cruise_control</th>\n",
       "      <td>20.628375</td>\n",
       "    </tr>\n",
       "    <tr>\n",
       "      <th>...</th>\n",
       "      <td>...</td>\n",
       "    </tr>\n",
       "    <tr>\n",
       "      <th>type_Demonstration</th>\n",
       "      <td>1738.585584</td>\n",
       "    </tr>\n",
       "    <tr>\n",
       "      <th>type_Employee's car</th>\n",
       "      <td>-1083.444550</td>\n",
       "    </tr>\n",
       "    <tr>\n",
       "      <th>type_New</th>\n",
       "      <td>844.291537</td>\n",
       "    </tr>\n",
       "    <tr>\n",
       "      <th>type_Pre-registered</th>\n",
       "      <td>-496.377210</td>\n",
       "    </tr>\n",
       "    <tr>\n",
       "      <th>type_Used</th>\n",
       "      <td>-1003.055361</td>\n",
       "    </tr>\n",
       "  </tbody>\n",
       "</table>\n",
       "<p>135 rows × 1 columns</p>\n",
       "</div>"
      ],
      "text/plain": [
       "                            Coefficient\n",
       "displacement                  -0.742758\n",
       "hp                            91.330786\n",
       "km                            -0.037402\n",
       "ss_abs                       -48.013996\n",
       "ss_adaptive_cruise_control    20.628375\n",
       "...                                 ...\n",
       "type_Demonstration          1738.585584\n",
       "type_Employee's car        -1083.444550\n",
       "type_New                     844.291537\n",
       "type_Pre-registered         -496.377210\n",
       "type_Used                  -1003.055361\n",
       "\n",
       "[135 rows x 1 columns]"
      ]
     },
     "execution_count": 42,
     "metadata": {},
     "output_type": "execute_result"
    }
   ],
   "source": [
    "coef"
   ]
  },
  {
   "cell_type": "code",
   "execution_count": 44,
   "metadata": {},
   "outputs": [
    {
     "data": {
      "text/plain": [
       "13477.2735092164"
      ]
     },
     "execution_count": 44,
     "metadata": {},
     "output_type": "execute_result"
    }
   ],
   "source": [
    "lm.intercept_"
   ]
  },
  {
   "cell_type": "code",
   "execution_count": 45,
   "metadata": {},
   "outputs": [],
   "source": [
    "y_pred=lm.predict(X_test)"
   ]
  },
  {
   "cell_type": "code",
   "execution_count": 46,
   "metadata": {},
   "outputs": [
    {
     "data": {
      "text/plain": [
       "array([18247.6800374 , 21735.00960245, 29980.43257828, ...,\n",
       "       27397.06570997, 18929.34021788,  7682.02047747])"
      ]
     },
     "execution_count": 46,
     "metadata": {},
     "output_type": "execute_result"
    }
   ],
   "source": [
    "y_pred"
   ]
  },
  {
   "cell_type": "code",
   "execution_count": 52,
   "metadata": {},
   "outputs": [],
   "source": [
    "my_dict = {\"Actual\": y_test, \"Pred\":y_pred}"
   ]
  },
  {
   "cell_type": "code",
   "execution_count": 53,
   "metadata": {},
   "outputs": [],
   "source": [
    "compare=pd.DataFrame(my_dict)"
   ]
  },
  {
   "cell_type": "code",
   "execution_count": 54,
   "metadata": {},
   "outputs": [
    {
     "data": {
      "text/html": [
       "<div>\n",
       "<style scoped>\n",
       "    .dataframe tbody tr th:only-of-type {\n",
       "        vertical-align: middle;\n",
       "    }\n",
       "\n",
       "    .dataframe tbody tr th {\n",
       "        vertical-align: top;\n",
       "    }\n",
       "\n",
       "    .dataframe thead th {\n",
       "        text-align: right;\n",
       "    }\n",
       "</style>\n",
       "<table border=\"1\" class=\"dataframe\">\n",
       "  <thead>\n",
       "    <tr style=\"text-align: right;\">\n",
       "      <th></th>\n",
       "      <th>Actual</th>\n",
       "      <th>Pred</th>\n",
       "    </tr>\n",
       "  </thead>\n",
       "  <tbody>\n",
       "    <tr>\n",
       "      <th>8022</th>\n",
       "      <td>16490</td>\n",
       "      <td>14189.978642</td>\n",
       "    </tr>\n",
       "    <tr>\n",
       "      <th>11079</th>\n",
       "      <td>12650</td>\n",
       "      <td>13261.044750</td>\n",
       "    </tr>\n",
       "    <tr>\n",
       "      <th>1239</th>\n",
       "      <td>15850</td>\n",
       "      <td>16729.553786</td>\n",
       "    </tr>\n",
       "    <tr>\n",
       "      <th>9550</th>\n",
       "      <td>9500</td>\n",
       "      <td>9810.383788</td>\n",
       "    </tr>\n",
       "    <tr>\n",
       "      <th>651</th>\n",
       "      <td>12888</td>\n",
       "      <td>11695.507875</td>\n",
       "    </tr>\n",
       "    <tr>\n",
       "      <th>5897</th>\n",
       "      <td>13995</td>\n",
       "      <td>15590.622576</td>\n",
       "    </tr>\n",
       "    <tr>\n",
       "      <th>8978</th>\n",
       "      <td>7900</td>\n",
       "      <td>7258.635362</td>\n",
       "    </tr>\n",
       "    <tr>\n",
       "      <th>4084</th>\n",
       "      <td>19400</td>\n",
       "      <td>20643.526155</td>\n",
       "    </tr>\n",
       "    <tr>\n",
       "      <th>5467</th>\n",
       "      <td>24800</td>\n",
       "      <td>22861.100803</td>\n",
       "    </tr>\n",
       "    <tr>\n",
       "      <th>5681</th>\n",
       "      <td>25290</td>\n",
       "      <td>23729.934118</td>\n",
       "    </tr>\n",
       "  </tbody>\n",
       "</table>\n",
       "</div>"
      ],
      "text/plain": [
       "       Actual          Pred\n",
       "8022    16490  14189.978642\n",
       "11079   12650  13261.044750\n",
       "1239    15850  16729.553786\n",
       "9550     9500   9810.383788\n",
       "651     12888  11695.507875\n",
       "5897    13995  15590.622576\n",
       "8978     7900   7258.635362\n",
       "4084    19400  20643.526155\n",
       "5467    24800  22861.100803\n",
       "5681    25290  23729.934118"
      ]
     },
     "execution_count": 54,
     "metadata": {},
     "output_type": "execute_result"
    }
   ],
   "source": [
    "compare.sample(10)"
   ]
  },
  {
   "cell_type": "code",
   "execution_count": 47,
   "metadata": {},
   "outputs": [
    {
     "data": {
      "text/plain": [
       "<matplotlib.collections.PathCollection at 0x289687e7908>"
      ]
     },
     "execution_count": 47,
     "metadata": {},
     "output_type": "execute_result"
    },
    {
     "data": {
      "image/png": "[encoded data removed]",
      "text/plain": [
       "<Figure size 432x288 with 1 Axes>"
      ]
     },
     "metadata": {
      "needs_background": "light"
     },
     "output_type": "display_data"
    }
   ],
   "source": [
    "plt.scatter(y_test, y_pred)"
   ]
  },
  {
   "cell_type": "code",
   "execution_count": 82,
   "metadata": {},
   "outputs": [],
   "source": [
    "from sklearn import metrics"
   ]
  },
  {
   "cell_type": "code",
   "execution_count": 83,
   "metadata": {},
   "outputs": [
    {
     "name": "stdout",
     "output_type": "stream",
     "text": [
      "MAE: 1691.0561021961162\n",
      "MSE: 6025733.121067095\n",
      "RMSE: 2454.736874100174\n",
      "R2 Score: 0.890427062837036\n"
     ]
    }
   ],
   "source": [
    "print(\"MAE:\", metrics.mean_absolute_error(y_test,y_pred))\n",
    "print(\"MSE:\", metrics.mean_squared_error(y_test,y_pred))\n",
    "print(\"RMSE:\", np.sqrt(metrics.mean_squared_error(y_test,y_pred)))\n",
    "print(\"R2 Score:\", lm.score(X_test, y_test))"
   ]
  },
  {
   "cell_type": "code",
   "execution_count": 84,
   "metadata": {},
   "outputs": [],
   "source": [
    "# JOSH NOTE: When I first made this video, I was thinking about how R^2 relates to LinR, which will not fit a line worse than the mean of the y-axis values.\n",
    "# This is because if the values along the x-axis are truly useless in terms of predicting y-axis values, then the slope of the line used to make predictions will be 0, and the intercept will equal the mean. \n",
    "# However, it is possible to simply draw a line that fits the data worse than the mean and get a negative R^2."
   ]
  },
  {
   "cell_type": "code",
   "execution_count": 85,
   "metadata": {},
   "outputs": [],
   "source": [
    "# model score with cross validation"
   ]
  },
  {
   "cell_type": "code",
   "execution_count": 86,
   "metadata": {},
   "outputs": [],
   "source": [
    "from sklearn.model_selection import cross_val_score #Evaluate a score by cross-validation"
   ]
  },
  {
   "cell_type": "code",
   "execution_count": 87,
   "metadata": {},
   "outputs": [],
   "source": [
    "cv_scores=cross_val_score(estimator=lm, X=X_train, y=y_train, cv=10)"
   ]
  },
  {
   "cell_type": "code",
   "execution_count": 88,
   "metadata": {},
   "outputs": [
    {
     "data": {
      "text/plain": [
       "array([0.89733291, 0.8935988 , 0.88827101, 0.8937862 , 0.8871339 ,\n",
       "       0.88779999, 0.87978772, 0.8908815 , 0.85985585, 0.88419968])"
      ]
     },
     "execution_count": 88,
     "metadata": {},
     "output_type": "execute_result"
    }
   ],
   "source": [
    "cv_scores"
   ]
  },
  {
   "cell_type": "code",
   "execution_count": 89,
   "metadata": {},
   "outputs": [
    {
     "data": {
      "text/plain": [
       "0.8862647570282652"
      ]
     },
     "execution_count": 89,
     "metadata": {},
     "output_type": "execute_result"
    }
   ],
   "source": [
    "cv_scores.mean()"
   ]
  },
  {
   "cell_type": "code",
   "execution_count": 92,
   "metadata": {},
   "outputs": [],
   "source": [
    "cv_scores = cross_val_score(estimator=lm, X=X_train, y=y_train, scoring = \"neg_mean_squared_error\", cv=10)"
   ]
  },
  {
   "cell_type": "code",
   "execution_count": 93,
   "metadata": {},
   "outputs": [
    {
     "data": {
      "text/plain": [
       "5842730.178340342"
      ]
     },
     "execution_count": 93,
     "metadata": {},
     "output_type": "execute_result"
    }
   ],
   "source": [
    "-cv_scores.mean()"
   ]
  },
  {
   "cell_type": "code",
   "execution_count": 94,
   "metadata": {},
   "outputs": [
    {
     "data": {
      "text/plain": [
       "2417.1740066326092"
      ]
     },
     "execution_count": 94,
     "metadata": {},
     "output_type": "execute_result"
    }
   ],
   "source": [
    "np.sqrt(-cv_scores.mean())"
   ]
  },
  {
   "cell_type": "markdown",
   "metadata": {
    "id": "n2ROwYsymqZO"
   },
   "source": [
    "## 4. Implement Ridge Regression"
   ]
  },
  {
   "cell_type": "markdown",
   "metadata": {
    "id": "3RvdF8CRmqZO"
   },
   "source": [
    "- Import the modul \n",
    "- Do not forget to scale the data or use Normalize parameter as True \n",
    "- Fit the model \n",
    "- Predict the test set \n",
    "- Evaluate model performance (use performance metrics for regression) \n",
    "- Tune alpha hiperparameter by using [cross validation](https://scikit-learn.org/stable/modules/generated/sklearn.linear_model.RidgeCV.html) and determine the optimal alpha value.\n",
    "- Fit the model and predict again with the new alpha value. "
   ]
  },
  {
   "cell_type": "code",
   "execution_count": 80,
   "metadata": {
    "id": "CXm_zzZMmqZO"
   },
   "outputs": [],
   "source": [
    "from sklearn.linear_model import Ridge\n",
    "from sklearn.linear_model import RidgeCV"
   ]
  },
  {
   "cell_type": "code",
   "execution_count": 100,
   "metadata": {},
   "outputs": [],
   "source": [
    "from sklearn.preprocessing import StandardScaler"
   ]
  },
  {
   "cell_type": "code",
   "execution_count": 101,
   "metadata": {},
   "outputs": [],
   "source": [
    "scaler=StandardScaler()"
   ]
  },
  {
   "cell_type": "code",
   "execution_count": 102,
   "metadata": {},
   "outputs": [
    {
     "data": {
      "text/plain": [
       "StandardScaler(copy=True, with_mean=True, with_std=True)"
      ]
     },
     "execution_count": 102,
     "metadata": {},
     "output_type": "execute_result"
    }
   ],
   "source": [
    "scaler.fit(X_train)"
   ]
  },
  {
   "cell_type": "code",
   "execution_count": 103,
   "metadata": {},
   "outputs": [],
   "source": [
    "X_train=scaler.transform(X_train)\n",
    "X_test=scaler.transform(X_test)"
   ]
  },
  {
   "cell_type": "code",
   "execution_count": 104,
   "metadata": {},
   "outputs": [],
   "source": [
    "a=pd.DataFrame(X_train, columns=X.columns)"
   ]
  },
  {
   "cell_type": "code",
   "execution_count": 105,
   "metadata": {},
   "outputs": [
    {
     "data": {
      "text/html": [
       "<div>\n",
       "<style scoped>\n",
       "    .dataframe tbody tr th:only-of-type {\n",
       "        vertical-align: middle;\n",
       "    }\n",
       "\n",
       "    .dataframe tbody tr th {\n",
       "        vertical-align: top;\n",
       "    }\n",
       "\n",
       "    .dataframe thead th {\n",
       "        text-align: right;\n",
       "    }\n",
       "</style>\n",
       "<table border=\"1\" class=\"dataframe\">\n",
       "  <thead>\n",
       "    <tr style=\"text-align: right;\">\n",
       "      <th></th>\n",
       "      <th>displacement</th>\n",
       "      <th>hp</th>\n",
       "      <th>km</th>\n",
       "      <th>ss_abs</th>\n",
       "      <th>ss_adaptive_cruise_control</th>\n",
       "      <th>ss_adaptive_headlights</th>\n",
       "      <th>ss_alarm_system</th>\n",
       "      <th>ss_blind_spot_monitor</th>\n",
       "      <th>ss_central_door_lock</th>\n",
       "      <th>ss_central_door_lock_with_remote_control</th>\n",
       "      <th>...</th>\n",
       "      <th>gearing_type_Semi-automatic</th>\n",
       "      <th>fuel_diesel</th>\n",
       "      <th>fuel_electric</th>\n",
       "      <th>fuel_gasoline</th>\n",
       "      <th>fuel_lpg</th>\n",
       "      <th>type_Demonstration</th>\n",
       "      <th>type_Employee's car</th>\n",
       "      <th>type_New</th>\n",
       "      <th>type_Pre-registered</th>\n",
       "      <th>type_Used</th>\n",
       "    </tr>\n",
       "  </thead>\n",
       "  <tbody>\n",
       "    <tr>\n",
       "      <th>0</th>\n",
       "      <td>0.893437</td>\n",
       "      <td>0.448095</td>\n",
       "      <td>-0.542938</td>\n",
       "      <td>0.229726</td>\n",
       "      <td>-0.295182</td>\n",
       "      <td>-0.39125</td>\n",
       "      <td>-0.382623</td>\n",
       "      <td>-0.296135</td>\n",
       "      <td>-2.487365</td>\n",
       "      <td>2.327603</td>\n",
       "      <td>...</td>\n",
       "      <td>-0.177644</td>\n",
       "      <td>1.057800</td>\n",
       "      <td>-0.009763</td>\n",
       "      <td>-1.048742</td>\n",
       "      <td>-0.064892</td>\n",
       "      <td>-0.229266</td>\n",
       "      <td>3.706394</td>\n",
       "      <td>-0.241002</td>\n",
       "      <td>-0.318064</td>\n",
       "      <td>-1.667303</td>\n",
       "    </tr>\n",
       "    <tr>\n",
       "      <th>1</th>\n",
       "      <td>-1.599329</td>\n",
       "      <td>-0.119367</td>\n",
       "      <td>-0.903464</td>\n",
       "      <td>0.229726</td>\n",
       "      <td>-0.295182</td>\n",
       "      <td>-0.39125</td>\n",
       "      <td>-0.382623</td>\n",
       "      <td>-0.296135</td>\n",
       "      <td>-2.487365</td>\n",
       "      <td>-0.429626</td>\n",
       "      <td>...</td>\n",
       "      <td>-0.177644</td>\n",
       "      <td>-0.945358</td>\n",
       "      <td>-0.009763</td>\n",
       "      <td>0.953523</td>\n",
       "      <td>-0.064892</td>\n",
       "      <td>-0.229266</td>\n",
       "      <td>-0.269804</td>\n",
       "      <td>-0.241002</td>\n",
       "      <td>-0.318064</td>\n",
       "      <td>0.599771</td>\n",
       "    </tr>\n",
       "    <tr>\n",
       "      <th>2</th>\n",
       "      <td>-0.123335</td>\n",
       "      <td>-0.838153</td>\n",
       "      <td>1.467649</td>\n",
       "      <td>0.229726</td>\n",
       "      <td>-0.295182</td>\n",
       "      <td>-0.39125</td>\n",
       "      <td>-0.382623</td>\n",
       "      <td>-0.296135</td>\n",
       "      <td>0.402032</td>\n",
       "      <td>-0.429626</td>\n",
       "      <td>...</td>\n",
       "      <td>-0.177644</td>\n",
       "      <td>-0.945358</td>\n",
       "      <td>-0.009763</td>\n",
       "      <td>0.953523</td>\n",
       "      <td>-0.064892</td>\n",
       "      <td>-0.229266</td>\n",
       "      <td>-0.269804</td>\n",
       "      <td>-0.241002</td>\n",
       "      <td>-0.318064</td>\n",
       "      <td>0.599771</td>\n",
       "    </tr>\n",
       "    <tr>\n",
       "      <th>3</th>\n",
       "      <td>0.616511</td>\n",
       "      <td>-0.119367</td>\n",
       "      <td>-0.886398</td>\n",
       "      <td>0.229726</td>\n",
       "      <td>-0.295182</td>\n",
       "      <td>-0.39125</td>\n",
       "      <td>-0.382623</td>\n",
       "      <td>-0.296135</td>\n",
       "      <td>0.402032</td>\n",
       "      <td>-0.429626</td>\n",
       "      <td>...</td>\n",
       "      <td>-0.177644</td>\n",
       "      <td>-0.945358</td>\n",
       "      <td>-0.009763</td>\n",
       "      <td>0.953523</td>\n",
       "      <td>-0.064892</td>\n",
       "      <td>-0.229266</td>\n",
       "      <td>3.706394</td>\n",
       "      <td>-0.241002</td>\n",
       "      <td>-0.318064</td>\n",
       "      <td>-1.667303</td>\n",
       "    </tr>\n",
       "    <tr>\n",
       "      <th>4</th>\n",
       "      <td>-1.972952</td>\n",
       "      <td>-0.838153</td>\n",
       "      <td>-0.907838</td>\n",
       "      <td>0.229726</td>\n",
       "      <td>-0.295182</td>\n",
       "      <td>-0.39125</td>\n",
       "      <td>-0.382623</td>\n",
       "      <td>-0.296135</td>\n",
       "      <td>0.402032</td>\n",
       "      <td>-0.429626</td>\n",
       "      <td>...</td>\n",
       "      <td>-0.177644</td>\n",
       "      <td>-0.945358</td>\n",
       "      <td>-0.009763</td>\n",
       "      <td>0.953523</td>\n",
       "      <td>-0.064892</td>\n",
       "      <td>-0.229266</td>\n",
       "      <td>-0.269804</td>\n",
       "      <td>4.149339</td>\n",
       "      <td>-0.318064</td>\n",
       "      <td>-1.667303</td>\n",
       "    </tr>\n",
       "  </tbody>\n",
       "</table>\n",
       "<p>5 rows × 135 columns</p>\n",
       "</div>"
      ],
      "text/plain": [
       "   displacement        hp        km    ss_abs  ss_adaptive_cruise_control  \\\n",
       "0      0.893437  0.448095 -0.542938  0.229726                   -0.295182   \n",
       "1     -1.599329 -0.119367 -0.903464  0.229726                   -0.295182   \n",
       "2     -0.123335 -0.838153  1.467649  0.229726                   -0.295182   \n",
       "3      0.616511 -0.119367 -0.886398  0.229726                   -0.295182   \n",
       "4     -1.972952 -0.838153 -0.907838  0.229726                   -0.295182   \n",
       "\n",
       "   ss_adaptive_headlights  ss_alarm_system  ss_blind_spot_monitor  \\\n",
       "0                -0.39125        -0.382623              -0.296135   \n",
       "1                -0.39125        -0.382623              -0.296135   \n",
       "2                -0.39125        -0.382623              -0.296135   \n",
       "3                -0.39125        -0.382623              -0.296135   \n",
       "4                -0.39125        -0.382623              -0.296135   \n",
       "\n",
       "   ss_central_door_lock  ss_central_door_lock_with_remote_control  ...  \\\n",
       "0             -2.487365                                  2.327603  ...   \n",
       "1             -2.487365                                 -0.429626  ...   \n",
       "2              0.402032                                 -0.429626  ...   \n",
       "3              0.402032                                 -0.429626  ...   \n",
       "4              0.402032                                 -0.429626  ...   \n",
       "\n",
       "   gearing_type_Semi-automatic  fuel_diesel  fuel_electric  fuel_gasoline  \\\n",
       "0                    -0.177644     1.057800      -0.009763      -1.048742   \n",
       "1                    -0.177644    -0.945358      -0.009763       0.953523   \n",
       "2                    -0.177644    -0.945358      -0.009763       0.953523   \n",
       "3                    -0.177644    -0.945358      -0.009763       0.953523   \n",
       "4                    -0.177644    -0.945358      -0.009763       0.953523   \n",
       "\n",
       "   fuel_lpg  type_Demonstration  type_Employee's car  type_New  \\\n",
       "0 -0.064892           -0.229266             3.706394 -0.241002   \n",
       "1 -0.064892           -0.229266            -0.269804 -0.241002   \n",
       "2 -0.064892           -0.229266            -0.269804 -0.241002   \n",
       "3 -0.064892           -0.229266             3.706394 -0.241002   \n",
       "4 -0.064892           -0.229266            -0.269804  4.149339   \n",
       "\n",
       "   type_Pre-registered  type_Used  \n",
       "0            -0.318064  -1.667303  \n",
       "1            -0.318064   0.599771  \n",
       "2            -0.318064   0.599771  \n",
       "3            -0.318064  -1.667303  \n",
       "4            -0.318064  -1.667303  \n",
       "\n",
       "[5 rows x 135 columns]"
      ]
     },
     "execution_count": 105,
     "metadata": {},
     "output_type": "execute_result"
    }
   ],
   "source": [
    "a.head()"
   ]
  },
  {
   "cell_type": "code",
   "execution_count": 107,
   "metadata": {},
   "outputs": [],
   "source": [
    "rm=Ridge(normalize=False)"
   ]
  },
  {
   "cell_type": "code",
   "execution_count": 108,
   "metadata": {},
   "outputs": [
    {
     "data": {
      "text/plain": [
       "Ridge(alpha=1.0, copy_X=True, fit_intercept=True, max_iter=None,\n",
       "      normalize=False, random_state=None, solver='auto', tol=0.001)"
      ]
     },
     "execution_count": 108,
     "metadata": {},
     "output_type": "execute_result"
    }
   ],
   "source": [
    "rm.fit(X_train, y_train)"
   ]
  },
  {
   "cell_type": "code",
   "execution_count": 109,
   "metadata": {},
   "outputs": [],
   "source": [
    "y_pred=rm.predict(X_test)"
   ]
  },
  {
   "cell_type": "code",
   "execution_count": 110,
   "metadata": {},
   "outputs": [
    {
     "name": "stdout",
     "output_type": "stream",
     "text": [
      "MAE: 1691.0306393878773\n",
      "MSE: 6025912.055882858\n",
      "RMSE: 2454.7733206719636\n",
      "R2 Score: 0.8904238090564702\n"
     ]
    }
   ],
   "source": [
    "print(\"MAE:\", metrics.mean_absolute_error(y_test,y_pred))\n",
    "print(\"MSE:\", metrics.mean_squared_error(y_test,y_pred))\n",
    "print(\"RMSE:\", np.sqrt(metrics.mean_squared_error(y_test,y_pred)))\n",
    "print(\"R2 Score:\", rm.score(X_test, y_test))"
   ]
  },
  {
   "cell_type": "code",
   "execution_count": 111,
   "metadata": {},
   "outputs": [
    {
     "data": {
      "text/plain": [
       "0.8862550868056438"
      ]
     },
     "execution_count": 111,
     "metadata": {},
     "output_type": "execute_result"
    }
   ],
   "source": [
    "cv_scores = cross_val_score(estimator=rm, X=X_train, y=y_train, cv=10)\n",
    "cv_scores.mean()"
   ]
  },
  {
   "cell_type": "code",
   "execution_count": 119,
   "metadata": {},
   "outputs": [],
   "source": [
    "# dir(rm)"
   ]
  },
  {
   "cell_type": "code",
   "execution_count": 113,
   "metadata": {},
   "outputs": [
    {
     "data": {
      "text/plain": [
       "1.0"
      ]
     },
     "execution_count": 113,
     "metadata": {},
     "output_type": "execute_result"
    }
   ],
   "source": [
    "rm.alpha"
   ]
  },
  {
   "cell_type": "code",
   "execution_count": 129,
   "metadata": {},
   "outputs": [
    {
     "data": {
      "text/plain": [
       "array([ 0.1       ,  0.3010101 ,  0.5020202 ,  0.7030303 ,  0.9040404 ,\n",
       "        1.10505051,  1.30606061,  1.50707071,  1.70808081,  1.90909091,\n",
       "        2.11010101,  2.31111111,  2.51212121,  2.71313131,  2.91414141,\n",
       "        3.11515152,  3.31616162,  3.51717172,  3.71818182,  3.91919192,\n",
       "        4.12020202,  4.32121212,  4.52222222,  4.72323232,  4.92424242,\n",
       "        5.12525253,  5.32626263,  5.52727273,  5.72828283,  5.92929293,\n",
       "        6.13030303,  6.33131313,  6.53232323,  6.73333333,  6.93434343,\n",
       "        7.13535354,  7.33636364,  7.53737374,  7.73838384,  7.93939394,\n",
       "        8.14040404,  8.34141414,  8.54242424,  8.74343434,  8.94444444,\n",
       "        9.14545455,  9.34646465,  9.54747475,  9.74848485,  9.94949495,\n",
       "       10.15050505, 10.35151515, 10.55252525, 10.75353535, 10.95454545,\n",
       "       11.15555556, 11.35656566, 11.55757576, 11.75858586, 11.95959596,\n",
       "       12.16060606, 12.36161616, 12.56262626, 12.76363636, 12.96464646,\n",
       "       13.16565657, 13.36666667, 13.56767677, 13.76868687, 13.96969697,\n",
       "       14.17070707, 14.37171717, 14.57272727, 14.77373737, 14.97474747,\n",
       "       15.17575758, 15.37676768, 15.57777778, 15.77878788, 15.97979798,\n",
       "       16.18080808, 16.38181818, 16.58282828, 16.78383838, 16.98484848,\n",
       "       17.18585859, 17.38686869, 17.58787879, 17.78888889, 17.98989899,\n",
       "       18.19090909, 18.39191919, 18.59292929, 18.79393939, 18.99494949,\n",
       "       19.1959596 , 19.3969697 , 19.5979798 , 19.7989899 , 20.        ])"
      ]
     },
     "execution_count": 129,
     "metadata": {},
     "output_type": "execute_result"
    }
   ],
   "source": [
    "alpha_space=np.linspace(0.1, 20,100)\n",
    "alpha_space"
   ]
  },
  {
   "cell_type": "code",
   "execution_count": 130,
   "metadata": {},
   "outputs": [],
   "source": [
    "ridgecv=RidgeCV(alphas=alpha_space, cv=10)"
   ]
  },
  {
   "cell_type": "code",
   "execution_count": 131,
   "metadata": {},
   "outputs": [
    {
     "data": {
      "text/plain": [
       "RidgeCV(alphas=array([ 0.1       ,  0.3010101 ,  0.5020202 ,  0.7030303 ,  0.9040404 ,\n",
       "        1.10505051,  1.30606061,  1.50707071,  1.70808081,  1.90909091,\n",
       "        2.11010101,  2.31111111,  2.51212121,  2.71313131,  2.91414141,\n",
       "        3.11515152,  3.31616162,  3.51717172,  3.71818182,  3.91919192,\n",
       "        4.12020202,  4.32121212,  4.52222222,  4.72323232,  4.92424242,\n",
       "        5.12525253,  5.32626263,  5.52727273,  5.72828283,  5.92929293,\n",
       "        6.1303030...\n",
       "       15.17575758, 15.37676768, 15.57777778, 15.77878788, 15.97979798,\n",
       "       16.18080808, 16.38181818, 16.58282828, 16.78383838, 16.98484848,\n",
       "       17.18585859, 17.38686869, 17.58787879, 17.78888889, 17.98989899,\n",
       "       18.19090909, 18.39191919, 18.59292929, 18.79393939, 18.99494949,\n",
       "       19.1959596 , 19.3969697 , 19.5979798 , 19.7989899 , 20.        ]),\n",
       "        cv=10, fit_intercept=True, gcv_mode=None, normalize=False, scoring=None,\n",
       "        store_cv_values=False)"
      ]
     },
     "execution_count": 131,
     "metadata": {},
     "output_type": "execute_result"
    }
   ],
   "source": [
    "ridgecv.fit(X_train, y_train)"
   ]
  },
  {
   "cell_type": "code",
   "execution_count": 132,
   "metadata": {},
   "outputs": [
    {
     "data": {
      "text/plain": [
       "20.0"
      ]
     },
     "execution_count": 132,
     "metadata": {},
     "output_type": "execute_result"
    }
   ],
   "source": [
    "ridgecv.alpha_"
   ]
  },
  {
   "cell_type": "code",
   "execution_count": 133,
   "metadata": {},
   "outputs": [
    {
     "name": "stdout",
     "output_type": "stream",
     "text": [
      "MAE: 1690.5898410624977\n",
      "MSE: 6029397.65905288\n",
      "RMSE: 2455.483182400743\n",
      "R2 Score: 0.8903604262664511\n"
     ]
    }
   ],
   "source": [
    "rm=Ridge(alpha=20, normalize=False)\n",
    "rm.fit(X_train, y_train)\n",
    "y_pred=rm.predict(X_test)\n",
    "\n",
    "print(\"MAE:\", metrics.mean_absolute_error(y_test,y_pred))\n",
    "print(\"MSE:\", metrics.mean_squared_error(y_test,y_pred))\n",
    "print(\"RMSE:\", np.sqrt(metrics.mean_squared_error(y_test,y_pred)))\n",
    "print(\"R2 Score:\", rm.score(X_test, y_test))"
   ]
  },
  {
   "cell_type": "markdown",
   "metadata": {
    "id": "oDfXOSnpmqZO"
   },
   "source": [
    "## 5. Implement Lasso Regression"
   ]
  },
  {
   "cell_type": "markdown",
   "metadata": {
    "id": "icqyxzBymqZO"
   },
   "source": [
    "- Import the modul \n",
    "- Do not forget to scale the data or use Normalize parameter as True\n",
    "- Fit the model \n",
    "- Predict the test set \n",
    "- Evaluate model performance (use performance metrics for regression) \n",
    "- Tune alpha hyperparameter by using [cross validation](https://scikit-learn.org/stable/modules/generated/sklearn.linear_model.LassoCV.html) and determine the optimal alpha value.\n",
    "- Fit the model and predict again with the new alpha value.\n",
    "- Compare different evaluation metrics\n",
    "\n",
    "*Note: To understand the importance of the alpha hyperparameter, you can observe the effects of different alpha values on feature coefficants.*"
   ]
  },
  {
   "cell_type": "code",
   "execution_count": 135,
   "metadata": {
    "id": "KbGqu0u5mqZO"
   },
   "outputs": [],
   "source": [
    "from sklearn.linear_model import Lasso\n",
    "from sklearn.linear_model import LassoCV"
   ]
  },
  {
   "cell_type": "code",
   "execution_count": 137,
   "metadata": {},
   "outputs": [
    {
     "name": "stdout",
     "output_type": "stream",
     "text": [
      "MAE: 1690.6237684143957\n",
      "MSE: 6027750.606879505\n",
      "RMSE: 2455.1477769941885\n",
      "R2 Score: 0.8903604262664511\n"
     ]
    },
    {
     "name": "stderr",
     "output_type": "stream",
     "text": [
      "C:\\Users\\Owner\\anaconda3\\lib\\site-packages\\sklearn\\linear_model\\_coordinate_descent.py:476: ConvergenceWarning: Objective did not converge. You might want to increase the number of iterations. Duality gap: 89728390.15007782, tolerance: 53864179.230890386\n",
      "  positive)\n"
     ]
    }
   ],
   "source": [
    "lasm=Lasso()\n",
    "lasm.fit(X_train, y_train)\n",
    "y_pred=lasm.predict(X_test)\n",
    "\n",
    "print(\"MAE:\", metrics.mean_absolute_error(y_test,y_pred))\n",
    "print(\"MSE:\", metrics.mean_squared_error(y_test,y_pred))\n",
    "print(\"RMSE:\", np.sqrt(metrics.mean_squared_error(y_test,y_pred)))\n",
    "print(\"R2 Score:\", rm.score(X_test, y_test))"
   ]
  },
  {
   "cell_type": "code",
   "execution_count": 138,
   "metadata": {},
   "outputs": [
    {
     "name": "stderr",
     "output_type": "stream",
     "text": [
      "C:\\Users\\Owner\\anaconda3\\lib\\site-packages\\sklearn\\linear_model\\_coordinate_descent.py:476: ConvergenceWarning: Objective did not converge. You might want to increase the number of iterations. Duality gap: 56707546.091918945, tolerance: 53864179.230890386\n",
      "  positive)\n"
     ]
    },
    {
     "data": {
      "text/plain": [
       "8.14040404040404"
      ]
     },
     "execution_count": 138,
     "metadata": {},
     "output_type": "execute_result"
    }
   ],
   "source": [
    "alpha_space = np.linspace(0.1, 20, 100)\n",
    "cv_lasm = LassoCV(alphas = alpha_space, cv = 5).fit(X_train, y_train)\n",
    "\n",
    "cv_lasm.alpha_"
   ]
  },
  {
   "cell_type": "code",
   "execution_count": 139,
   "metadata": {},
   "outputs": [
    {
     "name": "stdout",
     "output_type": "stream",
     "text": [
      "MAE: 1689.0306758684408\n",
      "MSE: 6052616.126362664\n",
      "RMSE: 2460.2065210796154\n",
      "R2 Score: 0.8903604262664511\n"
     ]
    },
    {
     "name": "stderr",
     "output_type": "stream",
     "text": [
      "C:\\Users\\Owner\\anaconda3\\lib\\site-packages\\sklearn\\linear_model\\_coordinate_descent.py:476: ConvergenceWarning: Objective did not converge. You might want to increase the number of iterations. Duality gap: 56516423.66767883, tolerance: 53864179.230890386\n",
      "  positive)\n"
     ]
    }
   ],
   "source": [
    "lasm=Lasso(alpha=8.1)\n",
    "lasm.fit(X_train, y_train)\n",
    "y_pred=lasm.predict(X_test)\n",
    "\n",
    "print(\"MAE:\", metrics.mean_absolute_error(y_test,y_pred))\n",
    "print(\"MSE:\", metrics.mean_squared_error(y_test,y_pred))\n",
    "print(\"RMSE:\", np.sqrt(metrics.mean_squared_error(y_test,y_pred)))\n",
    "print(\"R2 Score:\", rm.score(X_test, y_test))"
   ]
  },
  {
   "cell_type": "markdown",
   "metadata": {
    "id": "AnZ-aDHFmqZO"
   },
   "source": [
    "___\n",
    "\n",
    "<p style=\"text-align: center;\"><img src=\"https://docs.google.com/uc?id=1lY0Uj5R04yMY3-ZppPWxqCr5pvBLYPnV\" class=\"img-fluid\" alt=\"CLRSWY\"></p>\n",
    "\n",
    "___"
   ]
  }
 ],
 "metadata": {
  "colab": {
   "collapsed_sections": [],
   "name": "modeling_auto_scout_Student_V1.ipynb",
   "provenance": []
  },
  "kernelspec": {
   "display_name": "Python 3",
   "language": "python",
   "name": "python3"
  },
  "language_info": {
   "codemirror_mode": {
    "name": "ipython",
    "version": 3
   },
   "file_extension": ".py",
   "mimetype": "text/x-python",
   "name": "python",
   "nbconvert_exporter": "python",
   "pygments_lexer": "ipython3",
   "version": "3.7.6"
  }
 },
 "nbformat": 4,
 "nbformat_minor": 1
}
